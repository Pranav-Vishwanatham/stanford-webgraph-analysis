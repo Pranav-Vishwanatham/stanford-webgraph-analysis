{
 "cells": [
  {
   "cell_type": "code",
   "execution_count": 1,
   "id": "3fd400c9-3695-4c66-96bd-5b06872cab8e",
   "metadata": {},
   "outputs": [],
   "source": [
    "import pandas as pd\n",
    "from pyvis.network import Network"
   ]
  },
  {
   "cell_type": "code",
   "execution_count": 2,
   "id": "489670df-434a-4950-8dd0-e62ffeb415d9",
   "metadata": {},
   "outputs": [
    {
     "data": {
      "text/html": [
       "<div>\n",
       "<style scoped>\n",
       "    .dataframe tbody tr th:only-of-type {\n",
       "        vertical-align: middle;\n",
       "    }\n",
       "\n",
       "    .dataframe tbody tr th {\n",
       "        vertical-align: top;\n",
       "    }\n",
       "\n",
       "    .dataframe thead th {\n",
       "        text-align: right;\n",
       "    }\n",
       "</style>\n",
       "<table border=\"1\" class=\"dataframe\">\n",
       "  <thead>\n",
       "    <tr style=\"text-align: right;\">\n",
       "      <th></th>\n",
       "      <th>source</th>\n",
       "      <th>target</th>\n",
       "    </tr>\n",
       "  </thead>\n",
       "  <tbody>\n",
       "    <tr>\n",
       "      <th>93822</th>\n",
       "      <td>275212</td>\n",
       "      <td>30006</td>\n",
       "    </tr>\n",
       "    <tr>\n",
       "      <th>197853</th>\n",
       "      <td>104105</td>\n",
       "      <td>8688</td>\n",
       "    </tr>\n",
       "    <tr>\n",
       "      <th>176053</th>\n",
       "      <td>142987</td>\n",
       "      <td>109477</td>\n",
       "    </tr>\n",
       "    <tr>\n",
       "      <th>275054</th>\n",
       "      <td>62525</td>\n",
       "      <td>132284</td>\n",
       "    </tr>\n",
       "    <tr>\n",
       "      <th>30648</th>\n",
       "      <td>194610</td>\n",
       "      <td>25926</td>\n",
       "    </tr>\n",
       "    <tr>\n",
       "      <th>191009</th>\n",
       "      <td>89463</td>\n",
       "      <td>197199</td>\n",
       "    </tr>\n",
       "    <tr>\n",
       "      <th>221835</th>\n",
       "      <td>91494</td>\n",
       "      <td>247241</td>\n",
       "    </tr>\n",
       "    <tr>\n",
       "      <th>191496</th>\n",
       "      <td>36106</td>\n",
       "      <td>248020</td>\n",
       "    </tr>\n",
       "    <tr>\n",
       "      <th>89497</th>\n",
       "      <td>196029</td>\n",
       "      <td>90420</td>\n",
       "    </tr>\n",
       "    <tr>\n",
       "      <th>91237</th>\n",
       "      <td>253737</td>\n",
       "      <td>219188</td>\n",
       "    </tr>\n",
       "  </tbody>\n",
       "</table>\n",
       "</div>"
      ],
      "text/plain": [
       "        source  target\n",
       "93822   275212   30006\n",
       "197853  104105    8688\n",
       "176053  142987  109477\n",
       "275054   62525  132284\n",
       "30648   194610   25926\n",
       "191009   89463  197199\n",
       "221835   91494  247241\n",
       "191496   36106  248020\n",
       "89497   196029   90420\n",
       "91237   253737  219188"
      ]
     },
     "execution_count": 2,
     "metadata": {},
     "output_type": "execute_result"
    }
   ],
   "source": [
    "data = pd.read_csv(\"subgraph.csv\")\n",
    "data.columns = [\"source\", \"target\"]\n",
    "sample = data.sample(5000, random_state = 1)\n",
    "sample.head(10)"
   ]
  },
  {
   "cell_type": "code",
   "execution_count": 3,
   "id": "88630e8d-f78c-4c89-a6ea-e5ba00d2fbda",
   "metadata": {
    "scrolled": true
   },
   "outputs": [
    {
     "data": {
      "text/html": [
       "\n",
       "        <iframe\n",
       "            width=\"100%\"\n",
       "            height=\"750px\"\n",
       "            src=\"graph.html\"\n",
       "            frameborder=\"0\"\n",
       "            allowfullscreen\n",
       "            \n",
       "        ></iframe>\n",
       "        "
      ],
      "text/plain": [
       "<IPython.lib.display.IFrame at 0x11e9ec6c290>"
      ]
     },
     "execution_count": 3,
     "metadata": {},
     "output_type": "execute_result"
    }
   ],
   "source": [
    "net = Network(notebook = True, cdn_resources = \"remote\",\n",
    "                bgcolor = \"#222222\",\n",
    "                font_color = \"white\",\n",
    "                height = \"750px\",\n",
    "                width = \"100%\",\n",
    ")\n",
    "nodes = list(set([*sample.source,*sample.target]))\n",
    "edges = sample.values.tolist()\n",
    "net.add_nodes(nodes)\n",
    "net.add_edges(edges)\n",
    "net.show(\"graph.html\")"
   ]
  },
  {
   "cell_type": "code",
   "execution_count": 4,
   "id": "4f132322-6386-4cff-b565-914b16d155b5",
   "metadata": {
    "scrolled": true
   },
   "outputs": [
    {
     "data": {
      "text/html": [
       "\n",
       "        <iframe\n",
       "            width=\"100%\"\n",
       "            height=\"750px\"\n",
       "            src=\"graph_with_menu.html\"\n",
       "            frameborder=\"0\"\n",
       "            allowfullscreen\n",
       "            \n",
       "        ></iframe>\n",
       "        "
      ],
      "text/plain": [
       "<IPython.lib.display.IFrame at 0x11e9ec377d0>"
      ]
     },
     "execution_count": 4,
     "metadata": {},
     "output_type": "execute_result"
    }
   ],
   "source": [
    "net = Network(notebook = True, cdn_resources = \"remote\",\n",
    "                bgcolor = \"#222222\",\n",
    "                font_color = \"white\",\n",
    "                height = \"750px\",\n",
    "                width = \"100%\",\n",
    "                select_menu = True,\n",
    "                filter_menu = True,\n",
    ")\n",
    "nodes = list(set([*sample.source,*sample.target]))\n",
    "edges = sample.values.tolist()\n",
    "net.add_nodes(nodes)\n",
    "net.add_edges(edges)\n",
    "net.show(\"graph_with_menu.html\")"
   ]
  },
  {
   "cell_type": "code",
   "execution_count": null,
   "id": "baaee2e1-382c-4320-9fab-1dc8a6b4204b",
   "metadata": {},
   "outputs": [],
   "source": []
  }
 ],
 "metadata": {
  "kernelspec": {
   "display_name": "Python 3 (ipykernel)",
   "language": "python",
   "name": "python3"
  },
  "language_info": {
   "codemirror_mode": {
    "name": "ipython",
    "version": 3
   },
   "file_extension": ".py",
   "mimetype": "text/x-python",
   "name": "python",
   "nbconvert_exporter": "python",
   "pygments_lexer": "ipython3",
   "version": "3.11.8"
  }
 },
 "nbformat": 4,
 "nbformat_minor": 5
}
