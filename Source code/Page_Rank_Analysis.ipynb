{
  "nbformat": 4,
  "nbformat_minor": 0,
  "metadata": {
    "colab": {
      "provenance": [],
      "machine_shape": "hm",
      "gpuType": "A100"
    },
    "kernelspec": {
      "name": "python3",
      "display_name": "Python 3"
    },
    "language_info": {
      "name": "python"
    },
    "accelerator": "GPU"
  },
  "cells": [
    {
      "cell_type": "code",
      "execution_count": null,
      "metadata": {
        "id": "b3S2gtKmDS-k"
      },
      "outputs": [],
      "source": [
        "import networkx as nx\n",
        "from collections import Counter\n",
        "import numpy as np\n",
        "\n",
        "G = nx.read_edgelist('/content/drive/MyDrive/SMA/web-Stanford.txt.gz', create_using = nx.DiGraph)"
      ]
    },
    {
      "cell_type": "code",
      "source": [
        "print(G)"
      ],
      "metadata": {
        "colab": {
          "base_uri": "https://localhost:8080/"
        },
        "id": "6xasF4ORESNm",
        "outputId": "96f53c07-d034-4ef5-cdf7-82d2246cefaa"
      },
      "execution_count": null,
      "outputs": [
        {
          "output_type": "stream",
          "name": "stdout",
          "text": [
            "DiGraph with 281903 nodes and 2312497 edges\n"
          ]
        }
      ]
    },
    {
      "cell_type": "code",
      "source": [
        "G.is_directed()"
      ],
      "metadata": {
        "colab": {
          "base_uri": "https://localhost:8080/"
        },
        "id": "rYwlFO1AEXj-",
        "outputId": "7f44df7b-d28e-4a68-953f-74d224f6f313"
      },
      "execution_count": null,
      "outputs": [
        {
          "output_type": "execute_result",
          "data": {
            "text/plain": [
              "True"
            ]
          },
          "metadata": {},
          "execution_count": 3
        }
      ]
    },
    {
      "cell_type": "markdown",
      "source": [
        "# **Degree Based Sampling**"
      ],
      "metadata": {
        "id": "GWsOBrOlLZI7"
      }
    },
    {
      "cell_type": "code",
      "source": [
        "import networkx as nx\n",
        "\n",
        "# Initializing degrees dictionary to store total degree (in-degree + out-degree) of each node\n",
        "degrees = {node: deg for node, deg in G.degree()}\n",
        "\n",
        "# Sorting nodes by their total degree in descending order and selecting the top N nodes\n",
        "N = 30500\n",
        "top_nodes = sorted(degrees, key=degrees.get, reverse=True)[:N]\n",
        "\n",
        "# Create a subgraph from the top nodes\n",
        "subgraph = G.subgraph(top_nodes)\n",
        "\n",
        "# If the subgraph is not strongly connected or has many strongly connected components, refining it\n",
        "if not nx.is_strongly_connected(subgraph) or len(list(nx.strongly_connected_components(subgraph))) > 15:\n",
        "    # Extracting the largest strongly connected component\n",
        "    largest_component = max(nx.strongly_connected_components(subgraph), key=len)\n",
        "    subgraph = G.subgraph(largest_component)\n",
        "\n",
        "# Output basic information about the subgraph\n",
        "print(f\"Subgraph size: {subgraph.number_of_nodes()}\")\n",
        "print(f\"Subgraph density: {nx.density(subgraph)}\")\n",
        "print(subgraph)"
      ],
      "metadata": {
        "colab": {
          "base_uri": "https://localhost:8080/"
        },
        "id": "KOEouOHvEZBv",
        "outputId": "679df9e5-3a02-4948-d5a3-c53946111fb2"
      },
      "execution_count": null,
      "outputs": [
        {
          "output_type": "stream",
          "name": "stdout",
          "text": [
            "Subgraph size: 13142\n",
            "Subgraph density: 0.002079421156189292\n",
            "DiGraph with 13142 nodes and 359114 edges\n"
          ]
        }
      ]
    },
    {
      "cell_type": "code",
      "source": [
        "print(subgraph)"
      ],
      "metadata": {
        "colab": {
          "base_uri": "https://localhost:8080/"
        },
        "id": "EU0UWg5EsiU5",
        "outputId": "d455180c-bea3-4022-9a2d-0c7a43f030f9"
      },
      "execution_count": null,
      "outputs": [
        {
          "output_type": "stream",
          "name": "stdout",
          "text": [
            "DiGraph with 13142 nodes and 359114 edges\n"
          ]
        }
      ]
    },
    {
      "cell_type": "markdown",
      "source": [
        "**Subgraph**"
      ],
      "metadata": {
        "id": "_VMrEytALfe_"
      }
    },
    {
      "cell_type": "code",
      "source": [
        "# Export the subgraph to a CSV file\n",
        "nx.write_edgelist(subgraph, \"/content/drive/MyDrive/SMA/subgraph.csv\", delimiter=\",\", data=False)\n",
        "\n",
        "# Add header row to the CSV file\n",
        "with open(\"/content/drive/MyDrive/SMA/subgraph.csv\", \"r+\") as f:\n",
        "    content = f.read()\n",
        "    f.seek(0, 0)\n",
        "    f.write(\"source,target\\n\" + content)"
      ],
      "metadata": {
        "id": "vY8kU_ncEb3v"
      },
      "execution_count": null,
      "outputs": []
    },
    {
      "cell_type": "code",
      "source": [
        "print(subgraph)"
      ],
      "metadata": {
        "colab": {
          "base_uri": "https://localhost:8080/"
        },
        "id": "yEBelnjBsfDc",
        "outputId": "0ce8e382-2791-473d-deda-923434241ae8"
      },
      "execution_count": null,
      "outputs": [
        {
          "output_type": "stream",
          "name": "stdout",
          "text": [
            "DiGraph with 13142 nodes and 359114 edges\n"
          ]
        }
      ]
    },
    {
      "cell_type": "markdown",
      "source": [
        "# **Centrality Analysis**"
      ],
      "metadata": {
        "id": "QzMSOZTuLnOy"
      }
    },
    {
      "cell_type": "code",
      "source": [
        "degree_centrality= nx.degree_centrality(subgraph)\n",
        "\n",
        "print(sorted(degree_centrality.items(), key=lambda kv:(kv[1], kv[0]), reverse=True)[:10])"
      ],
      "metadata": {
        "colab": {
          "base_uri": "https://localhost:8080/"
        },
        "id": "gjNavTkSEhiP",
        "outputId": "969d4dc2-24b2-45bb-eb7c-ddf3b377263e"
      },
      "execution_count": null,
      "outputs": [
        {
          "output_type": "stream",
          "name": "stdout",
          "text": [
            "[('181701', 0.3581919184232555), ('247241', 0.3562133779773229), ('96745', 0.35613728026786395), ('77999', 0.35613728026786395), ('259455', 0.35613728026786395), ('221087', 0.35613728026786395), ('183004', 0.35613728026786395), ('17781', 0.35613728026786395), ('176790', 0.35613728026786395), ('137632', 0.35613728026786395)]\n"
          ]
        }
      ]
    },
    {
      "cell_type": "markdown",
      "source": [
        "# **Page Rank Analysis**"
      ],
      "metadata": {
        "id": "8OQVZrj_f-jL"
      }
    },
    {
      "cell_type": "code",
      "source": [
        "import numpy as np\n",
        "import networkx as nx\n",
        "from sklearn.metrics import mean_absolute_error, mean_squared_error\n",
        "import scipy.sparse as sp\n",
        "\n",
        "def adjacency_to_sparse_matrix(subgraph):\n",
        "    n = len(subgraph.nodes())\n",
        "    rows = []\n",
        "    cols = []\n",
        "    for edge in subgraph.edges():\n",
        "        rows.append(edge[0])\n",
        "        cols.append(edge[1])\n",
        "    return sp.coo_matrix(([1]*len(rows),(rows,cols)), shape=(n,n))\n",
        "\n",
        "def classic_pagerank(subgraph, alpha=0.85, max_iter=1000):\n",
        "    n = subgraph.number_of_nodes()\n",
        "    A = nx.adjacency_matrix(subgraph)\n",
        "    D = sp.diags(np.array(A.sum(axis=1)).flatten())\n",
        "    P = sp.linalg.inv(D).dot(A)\n",
        "    x = np.ones((n, 1)) / n\n",
        "    for i in range(max_iter):\n",
        "        xlast = x\n",
        "        x = alpha * P.dot(x) + (1 - alpha) / n\n",
        "        if np.allclose(x, xlast):\n",
        "            break\n",
        "    return x, i+1\n",
        "\n",
        "def heat_kernel_pagerank(subgraph, t=1, max_iter=1000):\n",
        "    subgraph = nx.convert_node_labels_to_integers(subgraph)\n",
        "    n = subgraph.number_of_nodes()\n",
        "    A = adjacency_to_sparse_matrix(subgraph)\n",
        "    D = sp.diags(np.array(A.sum(axis=1)).flatten())\n",
        "    P = sp.linalg.inv(D).dot(A)\n",
        "    Q = sp.csr_matrix(np.exp(-t * P.toarray()))\n",
        "    K = np.array(Q.sum(axis=1)).flatten()\n",
        "    H = sp.diags(1/K).dot(Q)\n",
        "    pr = np.ones(n) / n\n",
        "    for i in range(max_iter):\n",
        "        old_pr = pr.copy()\n",
        "        pr = H.dot(pr)\n",
        "        if np.allclose(pr, old_pr, atol=1e-6):\n",
        "            return pr, i+1\n",
        "    return pr, max_iter\n",
        "\n",
        "# Compute ground-truth PageRank scores\n",
        "gt_pr = nx.pagerank(subgraph, alpha=0.85, tol=1e-6)\n",
        "\n",
        "# Compute Classic PageRank scores\n",
        "pr1, num_iter1 = classic_pagerank(subgraph, alpha=0.85, max_iter=1000)\n",
        "\n",
        "# Compute Heat Kernel PageRank scores\n",
        "pr2, num_iter2 = heat_kernel_pagerank(subgraph, t=1, max_iter=1000)\n",
        "\n",
        "# Compute mean absolute error and root mean squared error for Classic PageRank\n",
        "classic_mae = mean_absolute_error(list(gt_pr.values()), pr1)\n",
        "classic_rmse = np.sqrt(mean_squared_error(list(gt_pr.values()), pr1))\n",
        "\n",
        "# Compute mean absolute error and root mean squared error for Heat Kernel PageRank\n",
        "heat_kernel_mae = mean_absolute_error(list(gt_pr.values()), pr2)\n",
        "heat_kernel_rmse = np.sqrt(mean_squared_error(list(gt_pr.values()), pr2))\n"
      ],
      "metadata": {
        "id": "_7FQpOW5ai6o",
        "colab": {
          "base_uri": "https://localhost:8080/"
        },
        "outputId": "15762ef6-2f89-4259-e439-39f1aa5e4aff"
      },
      "execution_count": null,
      "outputs": [
        {
          "output_type": "stream",
          "name": "stderr",
          "text": [
            "/usr/local/lib/python3.10/dist-packages/scipy/sparse/linalg/_dsolve/linsolve.py:229: SparseEfficiencyWarning: spsolve requires A be CSC or CSR matrix format\n",
            "  warn('spsolve requires A be CSC or CSR matrix format',\n",
            "/usr/local/lib/python3.10/dist-packages/scipy/sparse/linalg/_dsolve/linsolve.py:302: SparseEfficiencyWarning: spsolve is more efficient when sparse b is in the CSC matrix format\n",
            "  warn('spsolve is more efficient when sparse b '\n"
          ]
        }
      ]
    },
    {
      "cell_type": "code",
      "source": [
        "print(f\"Classic PageRank MAE: {classic_mae:.6f}\")\n",
        "print(f\"Classic PageRank RMSE: {classic_rmse:.6f}\")\n",
        "\n",
        "print(f\"Heat Kernel PageRank MAE: {heat_kernel_mae:.6f}\")\n",
        "print(f\"Heat Kernel PageRank RMSE: {heat_kernel_rmse:.6f}\")"
      ],
      "metadata": {
        "id": "wGTRSBVNgMqj",
        "colab": {
          "base_uri": "https://localhost:8080/"
        },
        "outputId": "37799ffe-b8a5-4725-aeaf-67ca9b893368"
      },
      "execution_count": null,
      "outputs": [
        {
          "output_type": "stream",
          "name": "stdout",
          "text": [
            "Classic PageRank MAE: 0.000093\n",
            "Classic PageRank RMSE: 0.000492\n",
            "Heat Kernel PageRank MAE: 0.000093\n",
            "Heat Kernel PageRank RMSE: 0.000492\n"
          ]
        }
      ]
    },
    {
      "cell_type": "code",
      "source": [
        "print(f\"Classic PageRank MAE: {classic_mae}\")\n",
        "print(f\"Classic PageRank RMSE: {classic_rmse}\")\n",
        "\n",
        "print(f\"Heat Kernel PageRank MAE: {heat_kernel_mae}\")\n",
        "print(f\"Heat Kernel PageRank RMSE: {heat_kernel_rmse}\")"
      ],
      "metadata": {
        "id": "K7e_dbtiuNtQ",
        "colab": {
          "base_uri": "https://localhost:8080/"
        },
        "outputId": "3d0f6388-26b7-4184-f8c8-02363c431347"
      },
      "execution_count": null,
      "outputs": [
        {
          "output_type": "stream",
          "name": "stdout",
          "text": [
            "Classic PageRank MAE: 9.324099274038117e-05\n",
            "Classic PageRank RMSE: 0.0004917658863565371\n",
            "Heat Kernel PageRank MAE: 9.324099274037658e-05\n",
            "Heat Kernel PageRank RMSE: 0.0004917658863565372\n"
          ]
        }
      ]
    }
  ]
}