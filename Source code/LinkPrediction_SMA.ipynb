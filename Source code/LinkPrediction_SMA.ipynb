{
  "nbformat": 4,
  "nbformat_minor": 0,
  "metadata": {
    "colab": {
      "provenance": [],
      "machine_shape": "hm"
    },
    "kernelspec": {
      "name": "python3",
      "display_name": "Python 3"
    },
    "language_info": {
      "name": "python"
    }
  },
  "cells": [
    {
      "cell_type": "markdown",
      "source": [
        "# Link Prediction"
      ],
      "metadata": {
        "id": "m10x8rM0_-Z8"
      }
    },
    {
      "cell_type": "markdown",
      "source": [
        "Importing dataset and ceating a directed graph"
      ],
      "metadata": {
        "id": "gWrhVtFUALNK"
      }
    },
    {
      "cell_type": "code",
      "execution_count": null,
      "metadata": {
        "colab": {
          "base_uri": "https://localhost:8080/",
          "height": 423
        },
        "id": "ZZA0YTCDP_ZX",
        "outputId": "265ca2f6-51b3-40d9-c09c-31e59a3afb18"
      },
      "outputs": [
        {
          "output_type": "execute_result",
          "data": {
            "text/plain": [
              "        source  target\n",
              "0         7843   17781\n",
              "1         7843   62478\n",
              "2         7843   77999\n",
              "3         7843   96745\n",
              "4         7843  120708\n",
              "...        ...     ...\n",
              "359109   51317  240101\n",
              "359110   51317  249270\n",
              "359111   51317  252528\n",
              "359112   51317  255700\n",
              "359113   51317  279789\n",
              "\n",
              "[359114 rows x 2 columns]"
            ],
            "text/html": [
              "\n",
              "  <div id=\"df-d4240818-20d1-4eac-8968-90847ddc91e2\" class=\"colab-df-container\">\n",
              "    <div>\n",
              "<style scoped>\n",
              "    .dataframe tbody tr th:only-of-type {\n",
              "        vertical-align: middle;\n",
              "    }\n",
              "\n",
              "    .dataframe tbody tr th {\n",
              "        vertical-align: top;\n",
              "    }\n",
              "\n",
              "    .dataframe thead th {\n",
              "        text-align: right;\n",
              "    }\n",
              "</style>\n",
              "<table border=\"1\" class=\"dataframe\">\n",
              "  <thead>\n",
              "    <tr style=\"text-align: right;\">\n",
              "      <th></th>\n",
              "      <th>source</th>\n",
              "      <th>target</th>\n",
              "    </tr>\n",
              "  </thead>\n",
              "  <tbody>\n",
              "    <tr>\n",
              "      <th>0</th>\n",
              "      <td>7843</td>\n",
              "      <td>17781</td>\n",
              "    </tr>\n",
              "    <tr>\n",
              "      <th>1</th>\n",
              "      <td>7843</td>\n",
              "      <td>62478</td>\n",
              "    </tr>\n",
              "    <tr>\n",
              "      <th>2</th>\n",
              "      <td>7843</td>\n",
              "      <td>77999</td>\n",
              "    </tr>\n",
              "    <tr>\n",
              "      <th>3</th>\n",
              "      <td>7843</td>\n",
              "      <td>96745</td>\n",
              "    </tr>\n",
              "    <tr>\n",
              "      <th>4</th>\n",
              "      <td>7843</td>\n",
              "      <td>120708</td>\n",
              "    </tr>\n",
              "    <tr>\n",
              "      <th>...</th>\n",
              "      <td>...</td>\n",
              "      <td>...</td>\n",
              "    </tr>\n",
              "    <tr>\n",
              "      <th>359109</th>\n",
              "      <td>51317</td>\n",
              "      <td>240101</td>\n",
              "    </tr>\n",
              "    <tr>\n",
              "      <th>359110</th>\n",
              "      <td>51317</td>\n",
              "      <td>249270</td>\n",
              "    </tr>\n",
              "    <tr>\n",
              "      <th>359111</th>\n",
              "      <td>51317</td>\n",
              "      <td>252528</td>\n",
              "    </tr>\n",
              "    <tr>\n",
              "      <th>359112</th>\n",
              "      <td>51317</td>\n",
              "      <td>255700</td>\n",
              "    </tr>\n",
              "    <tr>\n",
              "      <th>359113</th>\n",
              "      <td>51317</td>\n",
              "      <td>279789</td>\n",
              "    </tr>\n",
              "  </tbody>\n",
              "</table>\n",
              "<p>359114 rows × 2 columns</p>\n",
              "</div>\n",
              "    <div class=\"colab-df-buttons\">\n",
              "\n",
              "  <div class=\"colab-df-container\">\n",
              "    <button class=\"colab-df-convert\" onclick=\"convertToInteractive('df-d4240818-20d1-4eac-8968-90847ddc91e2')\"\n",
              "            title=\"Convert this dataframe to an interactive table.\"\n",
              "            style=\"display:none;\">\n",
              "\n",
              "  <svg xmlns=\"http://www.w3.org/2000/svg\" height=\"24px\" viewBox=\"0 -960 960 960\">\n",
              "    <path d=\"M120-120v-720h720v720H120Zm60-500h600v-160H180v160Zm220 220h160v-160H400v160Zm0 220h160v-160H400v160ZM180-400h160v-160H180v160Zm440 0h160v-160H620v160ZM180-180h160v-160H180v160Zm440 0h160v-160H620v160Z\"/>\n",
              "  </svg>\n",
              "    </button>\n",
              "\n",
              "  <style>\n",
              "    .colab-df-container {\n",
              "      display:flex;\n",
              "      gap: 12px;\n",
              "    }\n",
              "\n",
              "    .colab-df-convert {\n",
              "      background-color: #E8F0FE;\n",
              "      border: none;\n",
              "      border-radius: 50%;\n",
              "      cursor: pointer;\n",
              "      display: none;\n",
              "      fill: #1967D2;\n",
              "      height: 32px;\n",
              "      padding: 0 0 0 0;\n",
              "      width: 32px;\n",
              "    }\n",
              "\n",
              "    .colab-df-convert:hover {\n",
              "      background-color: #E2EBFA;\n",
              "      box-shadow: 0px 1px 2px rgba(60, 64, 67, 0.3), 0px 1px 3px 1px rgba(60, 64, 67, 0.15);\n",
              "      fill: #174EA6;\n",
              "    }\n",
              "\n",
              "    .colab-df-buttons div {\n",
              "      margin-bottom: 4px;\n",
              "    }\n",
              "\n",
              "    [theme=dark] .colab-df-convert {\n",
              "      background-color: #3B4455;\n",
              "      fill: #D2E3FC;\n",
              "    }\n",
              "\n",
              "    [theme=dark] .colab-df-convert:hover {\n",
              "      background-color: #434B5C;\n",
              "      box-shadow: 0px 1px 3px 1px rgba(0, 0, 0, 0.15);\n",
              "      filter: drop-shadow(0px 1px 2px rgba(0, 0, 0, 0.3));\n",
              "      fill: #FFFFFF;\n",
              "    }\n",
              "  </style>\n",
              "\n",
              "    <script>\n",
              "      const buttonEl =\n",
              "        document.querySelector('#df-d4240818-20d1-4eac-8968-90847ddc91e2 button.colab-df-convert');\n",
              "      buttonEl.style.display =\n",
              "        google.colab.kernel.accessAllowed ? 'block' : 'none';\n",
              "\n",
              "      async function convertToInteractive(key) {\n",
              "        const element = document.querySelector('#df-d4240818-20d1-4eac-8968-90847ddc91e2');\n",
              "        const dataTable =\n",
              "          await google.colab.kernel.invokeFunction('convertToInteractive',\n",
              "                                                    [key], {});\n",
              "        if (!dataTable) return;\n",
              "\n",
              "        const docLinkHtml = 'Like what you see? Visit the ' +\n",
              "          '<a target=\"_blank\" href=https://colab.research.google.com/notebooks/data_table.ipynb>data table notebook</a>'\n",
              "          + ' to learn more about interactive tables.';\n",
              "        element.innerHTML = '';\n",
              "        dataTable['output_type'] = 'display_data';\n",
              "        await google.colab.output.renderOutput(dataTable, element);\n",
              "        const docLink = document.createElement('div');\n",
              "        docLink.innerHTML = docLinkHtml;\n",
              "        element.appendChild(docLink);\n",
              "      }\n",
              "    </script>\n",
              "  </div>\n",
              "\n",
              "\n",
              "<div id=\"df-8559979c-dc92-449e-b587-ff1de27e3932\">\n",
              "  <button class=\"colab-df-quickchart\" onclick=\"quickchart('df-8559979c-dc92-449e-b587-ff1de27e3932')\"\n",
              "            title=\"Suggest charts\"\n",
              "            style=\"display:none;\">\n",
              "\n",
              "<svg xmlns=\"http://www.w3.org/2000/svg\" height=\"24px\"viewBox=\"0 0 24 24\"\n",
              "     width=\"24px\">\n",
              "    <g>\n",
              "        <path d=\"M19 3H5c-1.1 0-2 .9-2 2v14c0 1.1.9 2 2 2h14c1.1 0 2-.9 2-2V5c0-1.1-.9-2-2-2zM9 17H7v-7h2v7zm4 0h-2V7h2v10zm4 0h-2v-4h2v4z\"/>\n",
              "    </g>\n",
              "</svg>\n",
              "  </button>\n",
              "\n",
              "<style>\n",
              "  .colab-df-quickchart {\n",
              "      --bg-color: #E8F0FE;\n",
              "      --fill-color: #1967D2;\n",
              "      --hover-bg-color: #E2EBFA;\n",
              "      --hover-fill-color: #174EA6;\n",
              "      --disabled-fill-color: #AAA;\n",
              "      --disabled-bg-color: #DDD;\n",
              "  }\n",
              "\n",
              "  [theme=dark] .colab-df-quickchart {\n",
              "      --bg-color: #3B4455;\n",
              "      --fill-color: #D2E3FC;\n",
              "      --hover-bg-color: #434B5C;\n",
              "      --hover-fill-color: #FFFFFF;\n",
              "      --disabled-bg-color: #3B4455;\n",
              "      --disabled-fill-color: #666;\n",
              "  }\n",
              "\n",
              "  .colab-df-quickchart {\n",
              "    background-color: var(--bg-color);\n",
              "    border: none;\n",
              "    border-radius: 50%;\n",
              "    cursor: pointer;\n",
              "    display: none;\n",
              "    fill: var(--fill-color);\n",
              "    height: 32px;\n",
              "    padding: 0;\n",
              "    width: 32px;\n",
              "  }\n",
              "\n",
              "  .colab-df-quickchart:hover {\n",
              "    background-color: var(--hover-bg-color);\n",
              "    box-shadow: 0 1px 2px rgba(60, 64, 67, 0.3), 0 1px 3px 1px rgba(60, 64, 67, 0.15);\n",
              "    fill: var(--button-hover-fill-color);\n",
              "  }\n",
              "\n",
              "  .colab-df-quickchart-complete:disabled,\n",
              "  .colab-df-quickchart-complete:disabled:hover {\n",
              "    background-color: var(--disabled-bg-color);\n",
              "    fill: var(--disabled-fill-color);\n",
              "    box-shadow: none;\n",
              "  }\n",
              "\n",
              "  .colab-df-spinner {\n",
              "    border: 2px solid var(--fill-color);\n",
              "    border-color: transparent;\n",
              "    border-bottom-color: var(--fill-color);\n",
              "    animation:\n",
              "      spin 1s steps(1) infinite;\n",
              "  }\n",
              "\n",
              "  @keyframes spin {\n",
              "    0% {\n",
              "      border-color: transparent;\n",
              "      border-bottom-color: var(--fill-color);\n",
              "      border-left-color: var(--fill-color);\n",
              "    }\n",
              "    20% {\n",
              "      border-color: transparent;\n",
              "      border-left-color: var(--fill-color);\n",
              "      border-top-color: var(--fill-color);\n",
              "    }\n",
              "    30% {\n",
              "      border-color: transparent;\n",
              "      border-left-color: var(--fill-color);\n",
              "      border-top-color: var(--fill-color);\n",
              "      border-right-color: var(--fill-color);\n",
              "    }\n",
              "    40% {\n",
              "      border-color: transparent;\n",
              "      border-right-color: var(--fill-color);\n",
              "      border-top-color: var(--fill-color);\n",
              "    }\n",
              "    60% {\n",
              "      border-color: transparent;\n",
              "      border-right-color: var(--fill-color);\n",
              "    }\n",
              "    80% {\n",
              "      border-color: transparent;\n",
              "      border-right-color: var(--fill-color);\n",
              "      border-bottom-color: var(--fill-color);\n",
              "    }\n",
              "    90% {\n",
              "      border-color: transparent;\n",
              "      border-bottom-color: var(--fill-color);\n",
              "    }\n",
              "  }\n",
              "</style>\n",
              "\n",
              "  <script>\n",
              "    async function quickchart(key) {\n",
              "      const quickchartButtonEl =\n",
              "        document.querySelector('#' + key + ' button');\n",
              "      quickchartButtonEl.disabled = true;  // To prevent multiple clicks.\n",
              "      quickchartButtonEl.classList.add('colab-df-spinner');\n",
              "      try {\n",
              "        const charts = await google.colab.kernel.invokeFunction(\n",
              "            'suggestCharts', [key], {});\n",
              "      } catch (error) {\n",
              "        console.error('Error during call to suggestCharts:', error);\n",
              "      }\n",
              "      quickchartButtonEl.classList.remove('colab-df-spinner');\n",
              "      quickchartButtonEl.classList.add('colab-df-quickchart-complete');\n",
              "    }\n",
              "    (() => {\n",
              "      let quickchartButtonEl =\n",
              "        document.querySelector('#df-8559979c-dc92-449e-b587-ff1de27e3932 button');\n",
              "      quickchartButtonEl.style.display =\n",
              "        google.colab.kernel.accessAllowed ? 'block' : 'none';\n",
              "    })();\n",
              "  </script>\n",
              "</div>\n",
              "\n",
              "  <div id=\"id_0e69b264-b4aa-4d47-b024-682dc1b40332\">\n",
              "    <style>\n",
              "      .colab-df-generate {\n",
              "        background-color: #E8F0FE;\n",
              "        border: none;\n",
              "        border-radius: 50%;\n",
              "        cursor: pointer;\n",
              "        display: none;\n",
              "        fill: #1967D2;\n",
              "        height: 32px;\n",
              "        padding: 0 0 0 0;\n",
              "        width: 32px;\n",
              "      }\n",
              "\n",
              "      .colab-df-generate:hover {\n",
              "        background-color: #E2EBFA;\n",
              "        box-shadow: 0px 1px 2px rgba(60, 64, 67, 0.3), 0px 1px 3px 1px rgba(60, 64, 67, 0.15);\n",
              "        fill: #174EA6;\n",
              "      }\n",
              "\n",
              "      [theme=dark] .colab-df-generate {\n",
              "        background-color: #3B4455;\n",
              "        fill: #D2E3FC;\n",
              "      }\n",
              "\n",
              "      [theme=dark] .colab-df-generate:hover {\n",
              "        background-color: #434B5C;\n",
              "        box-shadow: 0px 1px 3px 1px rgba(0, 0, 0, 0.15);\n",
              "        filter: drop-shadow(0px 1px 2px rgba(0, 0, 0, 0.3));\n",
              "        fill: #FFFFFF;\n",
              "      }\n",
              "    </style>\n",
              "    <button class=\"colab-df-generate\" onclick=\"generateWithVariable('df')\"\n",
              "            title=\"Generate code using this dataframe.\"\n",
              "            style=\"display:none;\">\n",
              "\n",
              "  <svg xmlns=\"http://www.w3.org/2000/svg\" height=\"24px\"viewBox=\"0 0 24 24\"\n",
              "       width=\"24px\">\n",
              "    <path d=\"M7,19H8.4L18.45,9,17,7.55,7,17.6ZM5,21V16.75L18.45,3.32a2,2,0,0,1,2.83,0l1.4,1.43a1.91,1.91,0,0,1,.58,1.4,1.91,1.91,0,0,1-.58,1.4L9.25,21ZM18.45,9,17,7.55Zm-12,3A5.31,5.31,0,0,0,4.9,8.1,5.31,5.31,0,0,0,1,6.5,5.31,5.31,0,0,0,4.9,4.9,5.31,5.31,0,0,0,6.5,1,5.31,5.31,0,0,0,8.1,4.9,5.31,5.31,0,0,0,12,6.5,5.46,5.46,0,0,0,6.5,12Z\"/>\n",
              "  </svg>\n",
              "    </button>\n",
              "    <script>\n",
              "      (() => {\n",
              "      const buttonEl =\n",
              "        document.querySelector('#id_0e69b264-b4aa-4d47-b024-682dc1b40332 button.colab-df-generate');\n",
              "      buttonEl.style.display =\n",
              "        google.colab.kernel.accessAllowed ? 'block' : 'none';\n",
              "\n",
              "      buttonEl.onclick = () => {\n",
              "        google.colab.notebook.generateWithVariable('df');\n",
              "      }\n",
              "      })();\n",
              "    </script>\n",
              "  </div>\n",
              "\n",
              "    </div>\n",
              "  </div>\n"
            ],
            "application/vnd.google.colaboratory.intrinsic+json": {
              "type": "dataframe",
              "variable_name": "df"
            }
          },
          "metadata": {},
          "execution_count": 2
        }
      ],
      "source": [
        "import pandas as pd\n",
        "import networkx as nx\n",
        "\n",
        "# Loading subgraph CSV file into a pandas DataFrame\n",
        "df = pd.read_csv('/content/drive/MyDrive/BayesDiff/subgraph.csv')\n",
        "df"
      ]
    },
    {
      "cell_type": "code",
      "source": [
        "from google.colab import drive\n",
        "drive.mount('/content/drive')"
      ],
      "metadata": {
        "colab": {
          "base_uri": "https://localhost:8080/"
        },
        "id": "eXWQI96TekxB",
        "outputId": "dd60b07b-d2cf-4876-d558-754cbe7f180b"
      },
      "execution_count": null,
      "outputs": [
        {
          "output_type": "stream",
          "name": "stdout",
          "text": [
            "Mounted at /content/drive\n"
          ]
        }
      ]
    },
    {
      "cell_type": "code",
      "source": [
        "# Creating a new empty graph\n",
        "G = nx.Graph()\n",
        "\n",
        "# Adding edges from DataFrame to the graph\n",
        "for index, row in df.iterrows():\n",
        "    G.add_edge(row['source'], row['target'])\n",
        "\n",
        "# Printing the number of nodes and edges in the graph\n",
        "print('Number of nodes =', G.number_of_nodes())\n",
        "print('Number of edges =', G.number_of_edges())"
      ],
      "metadata": {
        "colab": {
          "base_uri": "https://localhost:8080/"
        },
        "id": "hQFEdUvtR0qi",
        "outputId": "7c0a7b20-8935-4319-b7fd-4d982a30e372"
      },
      "execution_count": null,
      "outputs": [
        {
          "output_type": "stream",
          "name": "stdout",
          "text": [
            "Number of nodes = 13142\n",
            "Number of edges = 318785\n"
          ]
        }
      ]
    },
    {
      "cell_type": "markdown",
      "source": [
        "**Adamic Adar Link Prediction**"
      ],
      "metadata": {
        "id": "DOdfD937Qftz"
      }
    },
    {
      "cell_type": "code",
      "source": [
        "from sklearn.model_selection import train_test_split\n",
        "from networkx.algorithms import link_prediction\n",
        "\n",
        "# Converting the directed graph to an undirected graph\n",
        "undirected_graph = G.to_undirected()\n",
        "\n",
        "# Spliting the graph into training and test sets\n",
        "train_set, test_set = train_test_split(list(undirected_graph.edges()), test_size=0.2)\n",
        "\n",
        "# Generating a list of missing edges to predict\n",
        "edges_missing = list(nx.non_edges(undirected_graph))\n",
        "\n",
        "# Calculating the Adamic-Adar index for each missing edge\n",
        "adamic_scores = link_prediction.adamic_adar_index(undirected_graph, edges_missing)\n",
        "\n",
        "# Converting the generator object to a dictionary and sort the scores in descending order\n",
        "adamic_scores_dict = {(u, v): s for u, v, s in adamic_scores}\n",
        "sorted_scores = sorted(adamic_scores_dict.items(), key=lambda x: x[1], reverse=True)"
      ],
      "metadata": {
        "id": "fcrRpRZdSBIR"
      },
      "execution_count": null,
      "outputs": []
    },
    {
      "cell_type": "code",
      "source": [
        "print(\"Number of edges in the test set =\", len(test_set))"
      ],
      "metadata": {
        "id": "mWBSV8c7TNq5",
        "colab": {
          "base_uri": "https://localhost:8080/"
        },
        "outputId": "173a5a96-5b32-4258-90de-403bd9d23795"
      },
      "execution_count": null,
      "outputs": [
        {
          "output_type": "stream",
          "name": "stdout",
          "text": [
            "Number of edges in the test set = 63757\n"
          ]
        }
      ]
    },
    {
      "cell_type": "code",
      "source": [
        "# Printing the top 10 predictions\n",
        "print(\"Top 10 link predictions =\")\n",
        "for edge, score in sorted_scores[:10]:\n",
        "    print(f\"{edge}: {score}\")"
      ],
      "metadata": {
        "colab": {
          "base_uri": "https://localhost:8080/"
        },
        "id": "FBh9QUNZxF6k",
        "outputId": "85c67083-bd41-4b8b-960a-41f3dcbf9ca4"
      },
      "execution_count": null,
      "outputs": [
        {
          "output_type": "stream",
          "name": "stdout",
          "text": [
            "Top 10 link predictions =\n",
            "(84906, 90543): 372.82350339947175\n",
            "(82476, 151707): 342.7012835279808\n",
            "(3164, 82476): 342.67065371310366\n",
            "(82476, 90543): 342.5657754187254\n",
            "(3164, 204315): 327.74201826681434\n",
            "(204315, 82476): 327.57088925184775\n",
            "(235570, 204315): 327.32246375344926\n",
            "(204315, 151707): 327.32246375344926\n",
            "(204315, 259439): 327.32246375344926\n",
            "(204315, 90543): 327.1869556441939\n"
          ]
        }
      ]
    },
    {
      "cell_type": "markdown",
      "source": [
        "**Preferential attachment**"
      ],
      "metadata": {
        "id": "UlmBsWEbyb8c"
      }
    },
    {
      "cell_type": "code",
      "source": [
        "# Calculating the preferential attachment score for each missing edge\n",
        "\n",
        "undirected_graph = G.to_undirected()\n",
        "edges_missing = list(nx.non_edges(undirected_graph))\n",
        "pref_att_scores = {}\n",
        "for u, v in edges_missing:\n",
        "    pref_att_scores[(u, v)] = list(nx.preferential_attachment(undirected_graph, [(u, v)]))[0][2]\n",
        "\n",
        "# Sorting the scores in descending order\n",
        "sorted_scores = sorted(pref_att_scores.items(), key=lambda x: x[1], reverse=True)\n",
        "\n",
        "# Printing the top 10 predictions\n",
        "print(\"Top 10 link predictions =\")\n",
        "for edge, score in sorted_scores[:10]:\n",
        "    print(f\"{edge}: {score}\")"
      ],
      "metadata": {
        "id": "03L4OiYuxnRT",
        "colab": {
          "base_uri": "https://localhost:8080/"
        },
        "outputId": "bb074feb-63b7-492b-f8b7-e19480e3d39e"
      },
      "execution_count": null,
      "outputs": [
        {
          "output_type": "stream",
          "name": "stdout",
          "text": [
            "Top 10 link predictions =\n",
            "(137632, 226411): 11249070\n",
            "(77999, 226411): 11249070\n",
            "(176790, 226411): 11249070\n",
            "(17781, 226411): 11249070\n",
            "(181701, 226411): 11249070\n",
            "(247241, 226411): 11249070\n",
            "(183004, 226411): 11249070\n",
            "(120708, 226411): 11249070\n",
            "(221087, 226411): 11249070\n",
            "(62478, 226411): 11249070\n"
          ]
        }
      ]
    },
    {
      "cell_type": "markdown",
      "source": [
        "Graph Neural Networks"
      ],
      "metadata": {
        "id": "t1wS_5ks2k9p"
      }
    },
    {
      "cell_type": "code",
      "source": [
        "import pandas as pd\n",
        "import torch\n",
        "from torch_geometric.data import Data\n",
        "\n",
        "data = pd.read_csv('/content/drive/MyDrive/SMA/subgraph.csv')\n",
        "\n",
        "# Converting data to torch tensor\n",
        "edge_index = torch.tensor(data.values.T, dtype=torch.long)\n",
        "\n",
        "# Assuming edge_index is already defined and available\n",
        "num_nodes = edge_index.max().item() + 1  # Maximum node index + 1\n",
        "\n",
        "# Initializing node features as the degree of each node\n",
        "node_features = torch.zeros((num_nodes, 1))\n",
        "for edge in edge_index.t():\n",
        "    node_features[edge[0]] += 1\n",
        "    node_features[edge[1]] += 1  # Count degree for both directions if the graph is undirected\n",
        "\n",
        "# Creating graph data\n",
        "graph_data = Data(x=node_features, edge_index=edge_index)"
      ],
      "metadata": {
        "id": "SpoBmxDV8Qgd"
      },
      "execution_count": null,
      "outputs": []
    },
    {
      "cell_type": "code",
      "source": [
        "import torch\n",
        "from torch_geometric.utils import negative_sampling\n",
        "from torch_geometric.data import Data\n",
        "\n",
        "# Assuming edge_index and num_nodes are already defined\n",
        "# Spliting edges into training and testing sets\n",
        "num_edges = edge_index.size(1)\n",
        "num_training_edges = int(num_edges * 0.9)  # 90% of edges for training\n",
        "\n",
        "# Shuffle edges to randomize\n",
        "perm = torch.randperm(num_edges)\n",
        "train_edge_index = edge_index[:, perm[:num_training_edges]]\n",
        "test_edge_index = edge_index[:, perm[num_training_edges:]]\n",
        "\n",
        "# Generating negative samples\n",
        "train_neg_edge_index = negative_sampling(edge_index=train_edge_index, num_nodes=num_nodes, num_neg_samples=num_training_edges)\n",
        "test_neg_edge_index = negative_sampling(edge_index=test_edge_index, num_nodes=num_nodes, num_neg_samples=test_edge_index.size(1))\n",
        "\n",
        "train_data = Data(x=node_features, edge_index=train_edge_index, neg_edge_index=train_neg_edge_index)\n",
        "test_data = Data(x=node_features, edge_index=test_edge_index, neg_edge_index=test_neg_edge_index)"
      ],
      "metadata": {
        "id": "dCa_QLyTw5mH"
      },
      "execution_count": null,
      "outputs": []
    },
    {
      "cell_type": "code",
      "source": [
        "import torch\n",
        "import torch.nn as nn\n",
        "import torch.nn.functional as F\n",
        "from torch_geometric.nn import GCNConv, BatchNorm, SAGEConv, GATConv\n",
        "\n",
        "class LinkPredictor(nn.Module):\n",
        "    def __init__(self, num_features, hidden_channels, out_channels, dropout=0.5):\n",
        "        super(LinkPredictor, self).__init__()\n",
        "        self.conv1 = GATConv(num_features, hidden_channels)\n",
        "        self.bn1 = BatchNorm(hidden_channels)\n",
        "        self.dropout1 = nn.Dropout(dropout)\n",
        "        self.conv2 = GATConv(hidden_channels, hidden_channels)\n",
        "        self.bn2 = BatchNorm(hidden_channels)\n",
        "        self.dropout2 = nn.Dropout(dropout)\n",
        "        self.conv3 = GATConv(hidden_channels, out_channels)\n",
        "        self.bn3 = BatchNorm(out_channels)\n",
        "\n",
        "    def forward(self, x, edge_index):\n",
        "        x = F.relu(self.bn1(self.conv1(x, edge_index)))\n",
        "        x = self.dropout1(x)\n",
        "        x = F.relu(self.bn2(self.conv2(x, edge_index)))\n",
        "        x = self.dropout2(x)\n",
        "        x = F.relu(self.bn3(self.conv3(x, edge_index)))\n",
        "        return x\n",
        "\n",
        "    def decode(self, z, pos_edge_index, neg_edge_index):\n",
        "        edge_index = torch.cat([pos_edge_index, neg_edge_index], dim=1)\n",
        "        logits = (z[edge_index[0]] * z[edge_index[1]]).sum(dim=1)\n",
        "        return logits\n",
        "\n",
        "# Initializing the model with modified hyperparameters\n",
        "model1 = LinkPredictor(num_features=1, hidden_channels=64, out_channels=32, dropout=0.5)\n",
        "model2 = LinkPredictor(num_features=1, hidden_channels=64, out_channels=32, dropout=0.5)\n",
        "model3 = LinkPredictor(num_features=1, hidden_channels=64, out_channels=32, dropout=0.5)"
      ],
      "metadata": {
        "id": "CHIicnuxw8ZH"
      },
      "execution_count": null,
      "outputs": []
    },
    {
      "cell_type": "markdown",
      "source": [
        "Evaluation for Model trained with learning rate 0.001"
      ],
      "metadata": {
        "id": "Srl5r8hMAZRH"
      }
    },
    {
      "cell_type": "code",
      "source": [
        "from torch.optim.lr_scheduler import StepLR, ExponentialLR\n",
        "\n",
        "optimizer = torch.optim.Adam(model1.parameters(), lr=0.001, weight_decay=1e-5)\n",
        "criterion = torch.nn.BCEWithLogitsLoss()\n",
        "\n",
        "def train(model, data, neg_edge_index, optimizer, criterion):\n",
        "    model.train()\n",
        "    optimizer.zero_grad()\n",
        "    z = model(data.x, data.edge_index)  # Use passed 'data' instead of 'graph_data'\n",
        "    pos_edge_index = data.edge_index\n",
        "    logits = model.decode(z, pos_edge_index, neg_edge_index)\n",
        "    labels = torch.cat([torch.ones(pos_edge_index.size(1)), torch.zeros(neg_edge_index.size(1))], dim=0)\n",
        "    loss = criterion(logits, labels)\n",
        "    loss.backward()\n",
        "    optimizer.step()\n",
        "    return loss.item()\n",
        "\n",
        "# Training the model\n",
        "for epoch in range(100):\n",
        "    loss = train(model1, train_data, train_neg_edge_index, optimizer, criterion)\n",
        "    print(f'Epoch {epoch+1}: Loss {loss}')"
      ],
      "metadata": {
        "colab": {
          "base_uri": "https://localhost:8080/"
        },
        "id": "6dHqgoYgxi4G",
        "outputId": "025d9089-3435-46cb-fc30-bbe315d03cbf"
      },
      "execution_count": null,
      "outputs": [
        {
          "output_type": "stream",
          "name": "stdout",
          "text": [
            "Epoch 1: Loss 0.49148327112197876\n",
            "Epoch 2: Loss 0.4968384802341461\n",
            "Epoch 3: Loss 0.49441033601760864\n",
            "Epoch 4: Loss 0.4919246435165405\n",
            "Epoch 5: Loss 0.488951712846756\n",
            "Epoch 6: Loss 0.49987584352493286\n",
            "Epoch 7: Loss 0.48839327692985535\n",
            "Epoch 8: Loss 0.485343873500824\n",
            "Epoch 9: Loss 0.4806666970252991\n",
            "Epoch 10: Loss 0.47513872385025024\n",
            "Epoch 11: Loss 0.47523462772369385\n",
            "Epoch 12: Loss 0.47916725277900696\n",
            "Epoch 13: Loss 0.47987622022628784\n",
            "Epoch 14: Loss 0.4689079523086548\n",
            "Epoch 15: Loss 0.47166675329208374\n",
            "Epoch 16: Loss 0.4692313075065613\n",
            "Epoch 17: Loss 0.46379536390304565\n",
            "Epoch 18: Loss 0.4748222529888153\n",
            "Epoch 19: Loss 0.4742421507835388\n",
            "Epoch 20: Loss 0.47800949215888977\n",
            "Epoch 21: Loss 0.4696563482284546\n",
            "Epoch 22: Loss 0.47109082341194153\n",
            "Epoch 23: Loss 0.47279343008995056\n",
            "Epoch 24: Loss 0.460290789604187\n",
            "Epoch 25: Loss 0.4601135551929474\n",
            "Epoch 26: Loss 0.46894270181655884\n",
            "Epoch 27: Loss 0.453843891620636\n",
            "Epoch 28: Loss 0.4518945813179016\n",
            "Epoch 29: Loss 0.4566744565963745\n",
            "Epoch 30: Loss 0.4571392834186554\n",
            "Epoch 31: Loss 0.45810723304748535\n",
            "Epoch 32: Loss 0.4646988809108734\n",
            "Epoch 33: Loss 0.448074609041214\n",
            "Epoch 34: Loss 0.4486991763114929\n",
            "Epoch 35: Loss 0.44936618208885193\n",
            "Epoch 36: Loss 0.4275144636631012\n",
            "Epoch 37: Loss 0.43647393584251404\n",
            "Epoch 38: Loss 0.4255240857601166\n",
            "Epoch 39: Loss 0.41777318716049194\n",
            "Epoch 40: Loss 0.41391873359680176\n",
            "Epoch 41: Loss 0.41510137915611267\n",
            "Epoch 42: Loss 0.4110853672027588\n",
            "Epoch 43: Loss 0.40219780802726746\n",
            "Epoch 44: Loss 0.3939877152442932\n",
            "Epoch 45: Loss 0.3963652551174164\n",
            "Epoch 46: Loss 0.4168223440647125\n",
            "Epoch 47: Loss 0.3886486887931824\n",
            "Epoch 48: Loss 0.39043402671813965\n",
            "Epoch 49: Loss 0.3888038992881775\n",
            "Epoch 50: Loss 0.3868236839771271\n",
            "Epoch 51: Loss 0.3904302418231964\n",
            "Epoch 52: Loss 0.3918222486972809\n",
            "Epoch 53: Loss 0.3904772698879242\n",
            "Epoch 54: Loss 0.3977068364620209\n",
            "Epoch 55: Loss 0.39244216680526733\n",
            "Epoch 56: Loss 0.38671329617500305\n",
            "Epoch 57: Loss 0.3948526084423065\n",
            "Epoch 58: Loss 0.38752931356430054\n",
            "Epoch 59: Loss 0.3890652358531952\n",
            "Epoch 60: Loss 0.38563334941864014\n",
            "Epoch 61: Loss 0.3889743685722351\n",
            "Epoch 62: Loss 0.37546300888061523\n",
            "Epoch 63: Loss 0.37758633494377136\n",
            "Epoch 64: Loss 0.37786421179771423\n",
            "Epoch 65: Loss 0.382534921169281\n",
            "Epoch 66: Loss 0.3748411536216736\n",
            "Epoch 67: Loss 0.43868860602378845\n",
            "Epoch 68: Loss 0.37985193729400635\n",
            "Epoch 69: Loss 0.3864588737487793\n",
            "Epoch 70: Loss 0.3856305480003357\n",
            "Epoch 71: Loss 0.3829842805862427\n",
            "Epoch 72: Loss 0.3778602182865143\n",
            "Epoch 73: Loss 0.37429648637771606\n",
            "Epoch 74: Loss 0.3794046938419342\n",
            "Epoch 75: Loss 0.3798993229866028\n",
            "Epoch 76: Loss 0.39366886019706726\n",
            "Epoch 77: Loss 0.37298446893692017\n",
            "Epoch 78: Loss 0.37329721450805664\n",
            "Epoch 79: Loss 0.3675857186317444\n",
            "Epoch 80: Loss 0.37565696239471436\n",
            "Epoch 81: Loss 0.37262725830078125\n",
            "Epoch 82: Loss 0.3697899878025055\n",
            "Epoch 83: Loss 0.3680570125579834\n",
            "Epoch 84: Loss 0.3769795596599579\n",
            "Epoch 85: Loss 0.3827928900718689\n",
            "Epoch 86: Loss 0.37861165404319763\n",
            "Epoch 87: Loss 0.36649996042251587\n",
            "Epoch 88: Loss 0.36753660440444946\n",
            "Epoch 89: Loss 0.37454894185066223\n",
            "Epoch 90: Loss 0.3714440166950226\n",
            "Epoch 91: Loss 0.37160831689834595\n",
            "Epoch 92: Loss 0.369503915309906\n",
            "Epoch 93: Loss 0.3762434124946594\n",
            "Epoch 94: Loss 0.37484171986579895\n",
            "Epoch 95: Loss 0.3789738416671753\n",
            "Epoch 96: Loss 0.3726625442504883\n",
            "Epoch 97: Loss 0.3712131381034851\n",
            "Epoch 98: Loss 0.37137386202812195\n",
            "Epoch 99: Loss 0.3895999491214752\n",
            "Epoch 100: Loss 0.37397897243499756\n"
          ]
        }
      ]
    },
    {
      "cell_type": "code",
      "source": [
        "from sklearn.metrics import roc_auc_score\n",
        "\n",
        "def evaluate(model, data, neg_edge_index):\n",
        "    model.eval()\n",
        "    with torch.no_grad():\n",
        "        z = model(data.x, data.edge_index)  # Use the 'data' parameter here\n",
        "        logits = model.decode(z, data.edge_index, neg_edge_index)\n",
        "        labels = torch.cat([torch.ones(data.edge_index.size(1)), torch.zeros(neg_edge_index.size(1))], dim=0)\n",
        "        predictions = torch.sigmoid(logits)\n",
        "        return roc_auc_score(labels.cpu(), predictions.cpu())\n",
        "\n",
        "# Evaluate on Test Set\n",
        "test_auc_score = evaluate(model1, test_data, test_neg_edge_index)\n",
        "print(f'Test AUC-ROC score: {test_auc_score}')"
      ],
      "metadata": {
        "colab": {
          "base_uri": "https://localhost:8080/"
        },
        "id": "ttemj7EOxkyn",
        "outputId": "895fda0b-d15d-4e29-faae-b45c0b31d167"
      },
      "execution_count": null,
      "outputs": [
        {
          "output_type": "stream",
          "name": "stdout",
          "text": [
            "Test AUC-ROC score: 0.9992324546888733\n"
          ]
        }
      ]
    },
    {
      "cell_type": "code",
      "source": [
        "from sklearn.metrics import accuracy_score, f1_score\n",
        "\n",
        "def predict_links(model, data, neg_edge_index):\n",
        "    model.eval()\n",
        "    with torch.no_grad():\n",
        "        z = model(data.x, data.edge_index)\n",
        "        logits = model.decode(z, data.edge_index, neg_edge_index)\n",
        "        labels = torch.cat([torch.ones(data.edge_index.size(1)), torch.zeros(neg_edge_index.size(1))], dim=0)\n",
        "        predictions = torch.sigmoid(logits) > 0.5  # Threshold probabilities to make class predictions\n",
        "        accuracy = accuracy_score(labels.cpu(), predictions.cpu())\n",
        "        f1 = f1_score(labels.cpu(), predictions.cpu())\n",
        "        return accuracy, f1\n",
        "\n",
        "accuracy, f1 = predict_links(model1, test_data, test_neg_edge_index)\n",
        "print(f'Test Accuracy: {accuracy}')\n",
        "print(f'Test F1-Score: {f1}')"
      ],
      "metadata": {
        "colab": {
          "base_uri": "https://localhost:8080/"
        },
        "id": "Imgzp_sPz0_a",
        "outputId": "9c4ebde1-39b8-402d-ea62-403569be37fa"
      },
      "execution_count": null,
      "outputs": [
        {
          "output_type": "stream",
          "name": "stdout",
          "text": [
            "Test Accuracy: 0.5\n",
            "Test F1-Score: 0.6666666666666666\n"
          ]
        }
      ]
    },
    {
      "cell_type": "markdown",
      "source": [
        "Evaluation for Model trained with learning rate 0.1"
      ],
      "metadata": {
        "id": "eEThknqpAk-C"
      }
    },
    {
      "cell_type": "code",
      "source": [
        "from torch.optim.lr_scheduler import StepLR, ExponentialLR\n",
        "\n",
        "optimizer = torch.optim.Adam(model2.parameters(), lr=0.1, weight_decay=1e-5)\n",
        "criterion = torch.nn.BCEWithLogitsLoss()\n",
        "\n",
        "# Training the model\n",
        "for epoch in range(30):\n",
        "    loss = train(model2, train_data, train_neg_edge_index, optimizer, criterion)\n",
        "    print(f'Epoch {epoch+1}: Loss {loss}')"
      ],
      "metadata": {
        "id": "iAyOTt9EsCHH",
        "colab": {
          "base_uri": "https://localhost:8080/"
        },
        "outputId": "ab5da601-9204-4daa-a9ef-4a486ab3094a"
      },
      "execution_count": null,
      "outputs": [
        {
          "output_type": "stream",
          "name": "stdout",
          "text": [
            "Epoch 1: Loss 0.4975561797618866\n",
            "Epoch 2: Loss 0.4949691891670227\n",
            "Epoch 3: Loss 0.4654850661754608\n",
            "Epoch 4: Loss 0.47137463092803955\n",
            "Epoch 5: Loss 0.48189088702201843\n",
            "Epoch 6: Loss 0.45912256836891174\n",
            "Epoch 7: Loss 0.44138336181640625\n",
            "Epoch 8: Loss 0.4125173091888428\n",
            "Epoch 9: Loss 0.40346458554267883\n",
            "Epoch 10: Loss 0.39251941442489624\n",
            "Epoch 11: Loss 0.39245346188545227\n",
            "Epoch 12: Loss 0.39126673340797424\n",
            "Epoch 13: Loss 0.38956138491630554\n",
            "Epoch 14: Loss 0.3812798261642456\n",
            "Epoch 15: Loss 0.3777826130390167\n",
            "Epoch 16: Loss 0.37613847851753235\n",
            "Epoch 17: Loss 0.3785461187362671\n",
            "Epoch 18: Loss 0.3813540041446686\n",
            "Epoch 19: Loss 0.3766584098339081\n",
            "Epoch 20: Loss 0.37339168787002563\n",
            "Epoch 21: Loss 0.37293559312820435\n",
            "Epoch 22: Loss 0.3743266463279724\n",
            "Epoch 23: Loss 0.374691367149353\n",
            "Epoch 24: Loss 0.3739543557167053\n",
            "Epoch 25: Loss 0.3713071048259735\n",
            "Epoch 26: Loss 0.36970165371894836\n",
            "Epoch 27: Loss 0.3702576458454132\n",
            "Epoch 28: Loss 0.37113043665885925\n",
            "Epoch 29: Loss 0.3733729124069214\n",
            "Epoch 30: Loss 0.36943063139915466\n"
          ]
        }
      ]
    },
    {
      "cell_type": "code",
      "source": [
        "# Evaluate on Test Set\n",
        "test_auc_score = evaluate(model2, test_data, test_neg_edge_index)\n",
        "print(f'Test AUC-ROC score: {test_auc_score}')"
      ],
      "metadata": {
        "colab": {
          "base_uri": "https://localhost:8080/"
        },
        "id": "QyCxtRvnwUC6",
        "outputId": "b9d97ad7-a711-47e7-daba-1244b7f6671a"
      },
      "execution_count": null,
      "outputs": [
        {
          "output_type": "stream",
          "name": "stdout",
          "text": [
            "Test AUC-ROC score: 0.9844577640835713\n"
          ]
        }
      ]
    },
    {
      "cell_type": "code",
      "source": [
        "accuracy, f1 = predict_links(model2, test_data, test_neg_edge_index)\n",
        "print(f'Test Accuracy: {accuracy}')\n",
        "print(f'Test F1-Score: {f1}')"
      ],
      "metadata": {
        "colab": {
          "base_uri": "https://localhost:8080/"
        },
        "id": "7ySofPxvwBLO",
        "outputId": "c2fd37e8-7313-459d-caea-0002848b00b8"
      },
      "execution_count": null,
      "outputs": [
        {
          "output_type": "stream",
          "name": "stdout",
          "text": [
            "Test Accuracy: 0.983946870126977\n",
            "Test F1-Score: 0.9837153792918379\n"
          ]
        }
      ]
    },
    {
      "cell_type": "markdown",
      "source": [
        "Evaluation for Model trained with learning rate 0.01"
      ],
      "metadata": {
        "id": "etCJ3RakAppP"
      }
    },
    {
      "cell_type": "code",
      "source": [
        "from torch.optim.lr_scheduler import StepLR, ExponentialLR\n",
        "\n",
        "optimizer = torch.optim.Adam(model3.parameters(), lr=0.01, weight_decay=1e-5)\n",
        "criterion = torch.nn.BCEWithLogitsLoss()\n",
        "\n",
        "# Training the model\n",
        "for epoch in range(50):\n",
        "    loss = train(model3, train_data, train_neg_edge_index, optimizer, criterion)\n",
        "    print(f'Epoch {epoch+1}: Loss {loss}')"
      ],
      "metadata": {
        "colab": {
          "base_uri": "https://localhost:8080/"
        },
        "id": "BFJuvKxxwV9M",
        "outputId": "17ddad29-0778-4bc5-8593-b90c334869a6"
      },
      "execution_count": null,
      "outputs": [
        {
          "output_type": "stream",
          "name": "stdout",
          "text": [
            "Epoch 1: Loss 0.6146199107170105\n",
            "Epoch 2: Loss 0.5487397313117981\n",
            "Epoch 3: Loss 0.5105056762695312\n",
            "Epoch 4: Loss 0.4663807451725006\n",
            "Epoch 5: Loss 0.44090044498443604\n",
            "Epoch 6: Loss 0.4251956641674042\n",
            "Epoch 7: Loss 0.41701608896255493\n",
            "Epoch 8: Loss 0.4006879925727844\n",
            "Epoch 9: Loss 0.39632636308670044\n",
            "Epoch 10: Loss 0.38910380005836487\n",
            "Epoch 11: Loss 0.3826361894607544\n",
            "Epoch 12: Loss 0.3817039728164673\n",
            "Epoch 13: Loss 0.37705716490745544\n",
            "Epoch 14: Loss 0.37706509232521057\n",
            "Epoch 15: Loss 0.37286147475242615\n",
            "Epoch 16: Loss 0.37023013830184937\n",
            "Epoch 17: Loss 0.37080004811286926\n",
            "Epoch 18: Loss 0.37222349643707275\n",
            "Epoch 19: Loss 0.368070125579834\n",
            "Epoch 20: Loss 0.3671777844429016\n",
            "Epoch 21: Loss 0.3683050274848938\n",
            "Epoch 22: Loss 0.365221232175827\n",
            "Epoch 23: Loss 0.36521151661872864\n",
            "Epoch 24: Loss 0.36359187960624695\n",
            "Epoch 25: Loss 0.3639599680900574\n",
            "Epoch 26: Loss 0.36288517713546753\n",
            "Epoch 27: Loss 0.36305779218673706\n",
            "Epoch 28: Loss 0.36279332637786865\n",
            "Epoch 29: Loss 0.3626810908317566\n",
            "Epoch 30: Loss 0.3616235554218292\n",
            "Epoch 31: Loss 0.36205342411994934\n",
            "Epoch 32: Loss 0.3619758188724518\n",
            "Epoch 33: Loss 0.36169397830963135\n",
            "Epoch 34: Loss 0.3610903024673462\n",
            "Epoch 35: Loss 0.3605259358882904\n",
            "Epoch 36: Loss 0.36069339513778687\n",
            "Epoch 37: Loss 0.3603447377681732\n",
            "Epoch 38: Loss 0.3606417775154114\n",
            "Epoch 39: Loss 0.3599960207939148\n",
            "Epoch 40: Loss 0.3598298132419586\n",
            "Epoch 41: Loss 0.3601034879684448\n",
            "Epoch 42: Loss 0.35973235964775085\n",
            "Epoch 43: Loss 0.3595522344112396\n",
            "Epoch 44: Loss 0.3595831096172333\n",
            "Epoch 45: Loss 0.35978037118911743\n",
            "Epoch 46: Loss 0.36037391424179077\n",
            "Epoch 47: Loss 0.3596358597278595\n",
            "Epoch 48: Loss 0.3595896363258362\n",
            "Epoch 49: Loss 0.35903456807136536\n",
            "Epoch 50: Loss 0.35965853929519653\n"
          ]
        }
      ]
    },
    {
      "cell_type": "code",
      "source": [
        "# Evaluate on Test Set\n",
        "test_auc_score = evaluate(model3, test_data, test_neg_edge_index)\n",
        "print(f'Test AUC-ROC score: {test_auc_score}')"
      ],
      "metadata": {
        "colab": {
          "base_uri": "https://localhost:8080/"
        },
        "id": "nYexPJP3xUJR",
        "outputId": "6fbbfc8e-6341-415b-8918-f9d52077a578"
      },
      "execution_count": null,
      "outputs": [
        {
          "output_type": "stream",
          "name": "stdout",
          "text": [
            "Test AUC-ROC score: 0.999472472353399\n"
          ]
        }
      ]
    },
    {
      "cell_type": "code",
      "source": [
        "accuracy, f1 = predict_links(model3, test_data, test_neg_edge_index)\n",
        "print(f'Test Accuracy: {accuracy}')\n",
        "print(f'Test F1-Score: {f1}')"
      ],
      "metadata": {
        "colab": {
          "base_uri": "https://localhost:8080/"
        },
        "id": "gkAjwFnWxWP1",
        "outputId": "1188eae9-b701-4c12-c11f-e147dfa96cd8"
      },
      "execution_count": null,
      "outputs": [
        {
          "output_type": "stream",
          "name": "stdout",
          "text": [
            "Test Accuracy: 0.9988722432613054\n",
            "Test F1-Score: 0.998873513663862\n"
          ]
        }
      ]
    }
  ]
}